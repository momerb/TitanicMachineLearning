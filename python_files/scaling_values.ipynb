{
 "cells": [
  {
   "cell_type": "code",
   "execution_count": 1,
   "metadata": {},
   "outputs": [],
   "source": [
    "import pandas as pd\n",
    "import torch\n",
    "from torch import nn\n",
    "from sklearn.model_selection import train_test_split\n",
    "from sklearn.preprocessing import MinMaxScaler"
   ]
  },
  {
   "cell_type": "code",
   "execution_count": 2,
   "metadata": {},
   "outputs": [],
   "source": [
    "device = \"mps\" if torch.backends.mps.is_available() else \"cpu\""
   ]
  },
  {
   "cell_type": "code",
   "execution_count": 3,
   "metadata": {},
   "outputs": [],
   "source": [
    "df = pd.read_csv(\"../excel_files/dataset_01.csv\")"
   ]
  },
  {
   "cell_type": "code",
   "execution_count": 4,
   "metadata": {},
   "outputs": [],
   "source": [
    "scaler = MinMaxScaler()\n",
    "\n",
    "df['Fare'] = scaler.fit_transform(df[['Fare']])"
   ]
  },
  {
   "cell_type": "code",
   "execution_count": 5,
   "metadata": {},
   "outputs": [],
   "source": [
    "age_missing = df[df['Age'].isnull()]\n",
    "age_not_missing = df.dropna(subset=['Age'])\n",
    "\n",
    "X = age_not_missing[['Pclass', 'Sex', 'SibSp', 'Parch', 'Fare', 'Alone']]\n",
    "y = age_not_missing['Age']"
   ]
  },
  {
   "cell_type": "code",
   "execution_count": 6,
   "metadata": {},
   "outputs": [
    {
     "data": {
      "text/plain": [
       "(torch.Size([1046, 6]), torch.Size([1046]), 1, 1046, 1046)"
      ]
     },
     "execution_count": 6,
     "metadata": {},
     "output_type": "execute_result"
    }
   ],
   "source": [
    "X_tensor = torch.tensor(X.values, dtype=torch.float32).to(device)\n",
    "y_tensor = torch.tensor(y.values, dtype=torch.float32).to(device)\n",
    "\n",
    "X_tensor.shape, y_tensor.shape, len(y_tensor.shape), len(X_tensor), len(y_tensor)"
   ]
  },
  {
   "cell_type": "code",
   "execution_count": 7,
   "metadata": {},
   "outputs": [
    {
     "data": {
      "text/plain": [
       "(941,\n",
       " 941,\n",
       " 105,\n",
       " 105,\n",
       " device(type='mps', index=0),\n",
       " torch.Size([941, 6]),\n",
       " torch.Size([941]))"
      ]
     },
     "execution_count": 7,
     "metadata": {},
     "output_type": "execute_result"
    }
   ],
   "source": [
    "X_train, X_test, y_train, y_test = train_test_split(X_tensor, y_tensor, test_size=0.1, random_state=42)\n",
    "\n",
    "len(X_train), len(y_train), len(X_test), len(y_test), X_train.device, X_train.shape, y_train.shape"
   ]
  },
  {
   "cell_type": "code",
   "execution_count": 8,
   "metadata": {},
   "outputs": [],
   "source": [
    "class AgePredictionModel(nn.Module):\n",
    "    def __init__(self):\n",
    "        super().__init__()\n",
    "        self.layer_stack = nn.Sequential(\n",
    "            nn.Linear(in_features=X_tensor.shape[1], out_features=128),\n",
    "            nn.ReLU(),\n",
    "            nn.Linear(in_features=128, out_features=64),\n",
    "            nn.ReLU(),\n",
    "            nn.Linear(in_features=64, out_features=32),\n",
    "            nn.ReLU(),\n",
    "            nn.Linear(in_features=32, out_features=len(y_tensor.shape))\n",
    "        )\n",
    "\n",
    "    def forward(self, x):\n",
    "        return self.layer_stack(x)"
   ]
  },
  {
   "cell_type": "code",
   "execution_count": 9,
   "metadata": {},
   "outputs": [
    {
     "data": {
      "text/plain": [
       "AgePredictionModel(\n",
       "  (layer_stack): Sequential(\n",
       "    (0): Linear(in_features=6, out_features=128, bias=True)\n",
       "    (1): ReLU()\n",
       "    (2): Linear(in_features=128, out_features=64, bias=True)\n",
       "    (3): ReLU()\n",
       "    (4): Linear(in_features=64, out_features=32, bias=True)\n",
       "    (5): ReLU()\n",
       "    (6): Linear(in_features=32, out_features=1, bias=True)\n",
       "  )\n",
       ")"
      ]
     },
     "execution_count": 9,
     "metadata": {},
     "output_type": "execute_result"
    }
   ],
   "source": [
    "torch.manual_seed(42)\n",
    "age_prediction_model = AgePredictionModel()\n",
    "age_prediction_model.to(device)"
   ]
  },
  {
   "cell_type": "code",
   "execution_count": 10,
   "metadata": {},
   "outputs": [],
   "source": [
    "loss_fn = nn.L1Loss()\n",
    "optimizer = torch.optim.Adam(age_prediction_model.parameters(), lr=0.01)"
   ]
  },
  {
   "cell_type": "code",
   "execution_count": 11,
   "metadata": {},
   "outputs": [
    {
     "name": "stdout",
     "output_type": "stream",
     "text": [
      "Epoch [1000/10000] | Train Loss: 8.4007 | Test Loss: 8.9438\n",
      "Epoch [2000/10000] | Train Loss: 8.1544 | Test Loss: 8.9353\n",
      "Epoch [3000/10000] | Train Loss: 8.0393 | Test Loss: 8.9240\n",
      "Epoch [4000/10000] | Train Loss: 7.9927 | Test Loss: 8.9474\n",
      "Epoch [5000/10000] | Train Loss: 7.9678 | Test Loss: 8.8721\n",
      "Epoch [6000/10000] | Train Loss: 7.7974 | Test Loss: 8.9666\n",
      "Epoch [7000/10000] | Train Loss: 7.6231 | Test Loss: 8.9931\n",
      "Epoch [8000/10000] | Train Loss: 7.4716 | Test Loss: 8.9239\n",
      "Epoch [9000/10000] | Train Loss: 7.7711 | Test Loss: 8.9128\n",
      "Epoch [10000/10000] | Train Loss: 7.4353 | Test Loss: 8.8581\n"
     ]
    }
   ],
   "source": [
    "epochs = 10000\n",
    "for epoch in range(epochs):\n",
    "    age_prediction_model.train()\n",
    "    y_pred = age_prediction_model(X_train).squeeze()\n",
    "    loss = loss_fn(y_pred, y_train)\n",
    "    optimizer.zero_grad()\n",
    "    loss.backward()\n",
    "    optimizer.step()\n",
    "\n",
    "    age_prediction_model.eval()\n",
    "    with torch.inference_mode():\n",
    "        test_pred = age_prediction_model(X_test).squeeze()\n",
    "        test_loss = loss_fn(test_pred, y_test)\n",
    "\n",
    "    if (epoch + 1) % 1000 == 0:\n",
    "        print(f'Epoch [{epoch + 1}/{epochs}] | Train Loss: {loss.item():.4f} | Test Loss: {test_loss.item():.4f}')"
   ]
  },
  {
   "cell_type": "code",
   "execution_count": 12,
   "metadata": {},
   "outputs": [
    {
     "data": {
      "text/plain": [
       "(263,)"
      ]
     },
     "execution_count": 12,
     "metadata": {},
     "output_type": "execute_result"
    }
   ],
   "source": [
    "X_missing = age_missing[['Pclass', 'Sex', 'SibSp', 'Parch', 'Fare', 'Alone']]\n",
    "X_missing_tensor = torch.tensor(X_missing.values, dtype=torch.float32).to(device)\n",
    "\n",
    "age_prediction_model.eval()\n",
    "with torch.inference_mode():\n",
    "    predicted_age_tensor = age_prediction_model(X_missing_tensor)\n",
    "    predicted_age = predicted_age_tensor.cpu().numpy().flatten()\n",
    "predicted_age.shape"
   ]
  },
  {
   "cell_type": "code",
   "execution_count": 13,
   "metadata": {},
   "outputs": [],
   "source": [
    "df.loc[df['Age'].isnull(), 'Age'] = predicted_age"
   ]
  },
  {
   "cell_type": "code",
   "execution_count": 14,
   "metadata": {},
   "outputs": [
    {
     "data": {
      "text/plain": [
       "PassengerId    0\n",
       "Pclass         0\n",
       "Sex            0\n",
       "Age            0\n",
       "SibSp          0\n",
       "Parch          0\n",
       "Fare           0\n",
       "Embarked       0\n",
       "Alone          0\n",
       "dtype: int64"
      ]
     },
     "execution_count": 14,
     "metadata": {},
     "output_type": "execute_result"
    }
   ],
   "source": [
    "df.isnull().sum()"
   ]
  },
  {
   "cell_type": "code",
   "execution_count": 15,
   "metadata": {},
   "outputs": [],
   "source": [
    "df.to_csv('../excel_files/dataset_02.csv', index=False)"
   ]
  },
  {
   "cell_type": "code",
   "execution_count": 16,
   "metadata": {},
   "outputs": [],
   "source": [
    "df = pd.read_csv('../excel_files/dataset_02.csv')"
   ]
  },
  {
   "cell_type": "code",
   "execution_count": 17,
   "metadata": {},
   "outputs": [],
   "source": [
    "df['Age'] = scaler.fit_transform(df[['Age']])"
   ]
  },
  {
   "cell_type": "code",
   "execution_count": 18,
   "metadata": {},
   "outputs": [],
   "source": [
    "df.to_csv('../excel_files/dataset_03.csv', index=False)"
   ]
  }
 ],
 "metadata": {
  "kernelspec": {
   "display_name": "titanic_competition_env",
   "language": "python",
   "name": "python3"
  },
  "language_info": {
   "codemirror_mode": {
    "name": "ipython",
    "version": 3
   },
   "file_extension": ".py",
   "mimetype": "text/x-python",
   "name": "python",
   "nbconvert_exporter": "python",
   "pygments_lexer": "ipython3",
   "version": "3.11.9"
  }
 },
 "nbformat": 4,
 "nbformat_minor": 2
}
